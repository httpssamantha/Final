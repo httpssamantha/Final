{
 "cells": [
  {
   "cell_type": "code",
   "execution_count": 3,
   "metadata": {},
   "outputs": [
    {
     "data": {
      "text/plain": [
       "'tails'"
      ]
     },
     "execution_count": 3,
     "metadata": {},
     "output_type": "execute_result"
    }
   ],
   "source": [
    "\"\"\" coin flip \"\"\"\n",
    "\n",
    "import random\n",
    "\n",
    "def coin_flip():\n",
    "    coin = ['heads', 'tails']\n",
    "    result = str(random.choice(coin))\n",
    "    return result\n",
    "coin_flip()"
   ]
  },
  {
   "cell_type": "code",
   "execution_count": 28,
   "metadata": {},
   "outputs": [
    {
     "name": "stdin",
     "output_type": "stream",
     "text": [
      "How many rounds do you want to play? 3\n"
     ]
    },
    {
     "name": "stdout",
     "output_type": "stream",
     "text": [
      "You have $50\n"
     ]
    },
    {
     "name": "stdin",
     "output_type": "stream",
     "text": [
      "Place your bet: 2\n",
      "Heads or tails? tails\n"
     ]
    },
    {
     "name": "stdout",
     "output_type": "stream",
     "text": [
      "You bet $2 this round\n",
      "The coin landed on heads \n",
      "\n",
      "You have $48\n",
      "The CPU has $52\n",
      "--------------\n"
     ]
    },
    {
     "name": "stdin",
     "output_type": "stream",
     "text": [
      "Place your bet: 2\n",
      "Heads or tails? tails\n"
     ]
    },
    {
     "name": "stdout",
     "output_type": "stream",
     "text": [
      "You bet $2 this round\n",
      "The coin landed on tails \n",
      "\n",
      "You have $50\n",
      "The CPU has $50\n",
      "--------------\n"
     ]
    },
    {
     "name": "stdin",
     "output_type": "stream",
     "text": [
      "Place your bet: 5\n",
      "Heads or tails? heads\n"
     ]
    },
    {
     "name": "stdout",
     "output_type": "stream",
     "text": [
      "You bet $5 this round\n",
      "The coin landed on tails \n",
      "\n",
      "You have $45\n",
      "The CPU has $55\n",
      "--------------\n"
     ]
    }
   ],
   "source": [
    "\"\"\" This game, sets amount of money and determines #of rounds to play. \"\"\"\n",
    "\n",
    "def game():\n",
    "    p1_money = 50\n",
    "    n = int(input('How many rounds do you want to play?'))\n",
    "    print('You have $50')\n",
    "    cpu_money = 50\n",
    "\n",
    "    \n",
    "# \"\"\"while loops for game\"\"\"\n",
    "    \n",
    "    \n",
    "    for i in range(0, n):\n",
    "        if i <= n:\n",
    "\n",
    "            flip = coin_flip()\n",
    "            bet = int(input('Place your bet:'))\n",
    "            p1_guess = input('Heads or tails?')\n",
    "            print('You bet $' + str(bet),'this round')  \n",
    "            \n",
    "#\"\"\"money; add an subtract\"\"\"\n",
    "            \n",
    "            if p1_guess == flip:\n",
    "                p1_money += bet\n",
    "                cpu_money -= bet\n",
    "            else:\n",
    "                cpu_money += bet\n",
    "                p1_money -= bet\n",
    "            print('The coin landed on ' +flip,'\\n')\n",
    "            print('You have $'+ str(p1_money) +' left')\n",
    "            print('The CPU has $'+ str(cpu_money))\n",
    "        \n",
    "#\"\"\"\"\"\"   \n",
    "            if cpu_money <= 0:\n",
    "                    print('You win!, CPU has no money.')\n",
    "                    break\n",
    "            elif p1_money <= 0:\n",
    "                    print('You lose. You have no money.')\n",
    "                    break\n",
    "            print('--------------')\n",
    "            \n",
    "            \n",
    "                \n",
    "game()"
   ]
  },
  {
   "cell_type": "code",
   "execution_count": null,
   "metadata": {},
   "outputs": [],
   "source": []
  },
  {
   "cell_type": "code",
   "execution_count": null,
   "metadata": {},
   "outputs": [],
   "source": []
  },
  {
   "cell_type": "code",
   "execution_count": null,
   "metadata": {},
   "outputs": [],
   "source": []
  },
  {
   "cell_type": "code",
   "execution_count": null,
   "metadata": {},
   "outputs": [],
   "source": []
  }
 ],
 "metadata": {
  "kernelspec": {
   "display_name": "Python 3",
   "language": "python",
   "name": "python3"
  },
  "language_info": {
   "codemirror_mode": {
    "name": "ipython",
    "version": 3
   },
   "file_extension": ".py",
   "mimetype": "text/x-python",
   "name": "python",
   "nbconvert_exporter": "python",
   "pygments_lexer": "ipython3",
   "version": "3.7.4"
  }
 },
 "nbformat": 4,
 "nbformat_minor": 4
}

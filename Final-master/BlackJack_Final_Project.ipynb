{
 "cells": [
  {
   "cell_type": "code",
   "execution_count": 28,
   "metadata": {},
   "outputs": [],
   "source": [
    "import random\n",
    "def new_card():\n",
    "    for x in range(1):\n",
    "        return random.randint(1,11)\n",
    "random.randint(1,11)\n",
    "def player():\n",
    "    print(\"Your Turn\")\n",
    "    total = 0\n",
    "    blackjack = False\n",
    "    first_card = new_card()\n",
    "    second_card = new_card()\n",
    "    total = first_card + second_card\n",
    "    \n",
    "    print(\"Cards: \" + str(first_card) + \",\" + str(second_card))\n",
    "    print(\"Your Total: \" + str(total))\n",
    "    if total is 21:\n",
    "        blackjack = True\n",
    "        \n",
    "    while total < 21:\n",
    "        option = input('Type \"Stay\" to stay or \"Hit\" to hit')\n",
    "        if option == 'Stay' or option == 'stay':\n",
    "            break\n",
    "        first_card = new_card()\n",
    "        print(\"\\nDraw: \" + str(first_card))\n",
    "        total += first_card\n",
    "        print(\"Your Total: \" + str(total))\n",
    "    return total, blackjack\n",
    "\n",
    "def dealer():\n",
    "    print(\"\\nDealer's Turn\")\n",
    "    total = 0\n",
    "    first_card = new_card()\n",
    "    second_card = new_card()\n",
    "    total = first_card + second_card\n",
    "    \n",
    "    print(\"Cards: \" + str(first_card) + \",\" + str(second_card))\n",
    "    print(\"Dealer's Total: \" + str(total))\n",
    "    \n",
    "    while total <=16:\n",
    "        print(\"The Dealer is under 16, he has to take another hit!\")\n",
    "        first_card = new_card()\n",
    "        print(\"\\nDraw: \" + str(first_card))\n",
    "        total += first_card\n",
    "        print(\"Dealer's Total: \" + str(total))\n",
    "    return total"
   ]
  },
  {
   "cell_type": "code",
   "execution_count": 42,
   "metadata": {},
   "outputs": [
    {
     "name": "stdout",
     "output_type": "stream",
     "text": [
      "Your Turn\n",
      "Cards: 4,2\n",
      "Your Total: 6\n"
     ]
    },
    {
     "name": "stdin",
     "output_type": "stream",
     "text": [
      "Type \"Stay\" to stay or \"Hit\" to hit hit\n"
     ]
    },
    {
     "name": "stdout",
     "output_type": "stream",
     "text": [
      "\n",
      "Draw: 10\n",
      "Your Total: 16\n"
     ]
    },
    {
     "name": "stdin",
     "output_type": "stream",
     "text": [
      "Type \"Stay\" to stay or \"Hit\" to hit stay\n"
     ]
    },
    {
     "name": "stdout",
     "output_type": "stream",
     "text": [
      "\n",
      "Dealer's Turn\n",
      "Cards: 1,9\n",
      "Dealer's Total: 10\n",
      "The Dealer is under 16, he has to take another hit!\n",
      "\n",
      "Draw: 11\n",
      "Dealer's Total: 21\n",
      "You Lose!\n"
     ]
    }
   ],
   "source": [
    "def main():\n",
    "    \n",
    "    player_total , blackjack = player()\n",
    "    player_wins = False\n",
    "    dealer_wins = False\n",
    "    push = False\n",
    "    if blackjack:\n",
    "        print(\"You got Black Jack! Congradutlations!\")\n",
    "        player_wins = True\n",
    "    if player_total > 21:\n",
    "        print(\"Bust!\")\n",
    "        dealer_wins = True\n",
    "        \n",
    "    elif player_wins is False or dealer_wins is False:\n",
    "        dealer_total = dealer()\n",
    "        if dealer_total > 21:\n",
    "            print(\"Bust!\")\n",
    "            player_wins = True\n",
    "        elif player_total > dealer_total:\n",
    "            player_wins = True\n",
    "        elif player_total == dealer_total:\n",
    "            push = True\n",
    "        else:\n",
    "            dealer_wins = True\n",
    "            \n",
    "  \n",
    "    if player_wins:\n",
    "        print(\"You Win!\")\n",
    "    elif dealer_wins:\n",
    "        print(\"You Lose!\")\n",
    "    if push:\n",
    "        print(\"Push, its a draw!\")\n",
    "main()"
   ]
  },
  {
   "cell_type": "code",
   "execution_count": null,
   "metadata": {},
   "outputs": [],
   "source": []
  }
 ],
 "metadata": {
  "kernelspec": {
   "display_name": "Python 3",
   "language": "python",
   "name": "python3"
  },
  "language_info": {
   "codemirror_mode": {
    "name": "ipython",
    "version": 3
   },
   "file_extension": ".py",
   "mimetype": "text/x-python",
   "name": "python",
   "nbconvert_exporter": "python",
   "pygments_lexer": "ipython3",
   "version": "3.7.4"
  }
 },
 "nbformat": 4,
 "nbformat_minor": 4
}
